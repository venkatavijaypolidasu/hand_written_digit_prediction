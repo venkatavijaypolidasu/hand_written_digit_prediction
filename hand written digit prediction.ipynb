{
 "cells": [
  {
   "cell_type": "code",
   "execution_count": 1,
   "id": "85467a9e",
   "metadata": {},
   "outputs": [],
   "source": [
    "import pandas as pd"
   ]
  },
  {
   "cell_type": "code",
   "execution_count": 2,
   "id": "6bf44be0",
   "metadata": {},
   "outputs": [],
   "source": [
    "import numpy as np"
   ]
  },
  {
   "cell_type": "code",
   "execution_count": 3,
   "id": "f730367b",
   "metadata": {},
   "outputs": [],
   "source": [
    "import matplotlib.pyplot as plt"
   ]
  },
  {
   "cell_type": "code",
   "execution_count": 4,
   "id": "23f56c16",
   "metadata": {},
   "outputs": [],
   "source": [
    "from sklearn.datasets import load_digits"
   ]
  },
  {
   "cell_type": "code",
   "execution_count": 5,
   "id": "bf9d097b",
   "metadata": {},
   "outputs": [],
   "source": [
    "df=load_digits()"
   ]
  },
  {
   "cell_type": "code",
   "execution_count": 6,
   "id": "2aa153f8",
   "metadata": {},
   "outputs": [
    {
     "data": {
      "image/png": "[encoded data removed]",
      "text/plain": [
       "<Figure size 1000x300 with 4 Axes>"
      ]
     },
     "metadata": {},
     "output_type": "display_data"
    }
   ],
   "source": [
    "_,axes=plt.subplots(nrows=1,ncols=4,figsize=(10,3))\n",
    "for ax,image,lable in zip(axes,df.images,df.target):\n",
    "    ax.set_axis_off()\n",
    "    ax.imshow(image,cmap=plt.cm.gray_r,interpolation='nearest')\n",
    "    ax.set_title('Training: %i'%lable)"
   ]
  },
  {
   "cell_type": "code",
   "execution_count": 7,
   "id": "44c44620",
   "metadata": {},
   "outputs": [
    {
     "data": {
      "text/plain": [
       "(1797, 8, 8)"
      ]
     },
     "execution_count": 7,
     "metadata": {},
     "output_type": "execute_result"
    }
   ],
   "source": [
    "df.images.shape"
   ]
  },
  {
   "cell_type": "code",
   "execution_count": 8,
   "id": "6efe9036",
   "metadata": {},
   "outputs": [
    {
     "data": {
      "text/plain": [
       "array([[ 0.,  0.,  5., 13.,  9.,  1.,  0.,  0.],\n",
       "       [ 0.,  0., 13., 15., 10., 15.,  5.,  0.],\n",
       "       [ 0.,  3., 15.,  2.,  0., 11.,  8.,  0.],\n",
       "       [ 0.,  4., 12.,  0.,  0.,  8.,  8.,  0.],\n",
       "       [ 0.,  5.,  8.,  0.,  0.,  9.,  8.,  0.],\n",
       "       [ 0.,  4., 11.,  0.,  1., 12.,  7.,  0.],\n",
       "       [ 0.,  2., 14.,  5., 10., 12.,  0.,  0.],\n",
       "       [ 0.,  0.,  6., 13., 10.,  0.,  0.,  0.]])"
      ]
     },
     "execution_count": 8,
     "metadata": {},
     "output_type": "execute_result"
    }
   ],
   "source": [
    "df.images[0]"
   ]
  },
  {
   "cell_type": "code",
   "execution_count": 9,
   "id": "fb3a1436",
   "metadata": {},
   "outputs": [
    {
     "data": {
      "text/plain": [
       "(8, 8)"
      ]
     },
     "execution_count": 9,
     "metadata": {},
     "output_type": "execute_result"
    }
   ],
   "source": [
    "df.images[0].shape"
   ]
  },
  {
   "cell_type": "code",
   "execution_count": 10,
   "id": "3b3d514a",
   "metadata": {},
   "outputs": [
    {
     "data": {
      "text/plain": [
       "1797"
      ]
     },
     "execution_count": 10,
     "metadata": {},
     "output_type": "execute_result"
    }
   ],
   "source": [
    "len(df.images)"
   ]
  },
  {
   "cell_type": "code",
   "execution_count": 12,
   "id": "ff9308ab",
   "metadata": {},
   "outputs": [],
   "source": [
    "n_samples=len(df.images)\n",
    "data=df.images.reshape((n_samples,-1))"
   ]
  },
  {
   "cell_type": "code",
   "execution_count": 13,
   "id": "67294cb2",
   "metadata": {},
   "outputs": [
    {
     "data": {
      "text/plain": [
       "array([ 0.,  0.,  5., 13.,  9.,  1.,  0.,  0.,  0.,  0., 13., 15., 10.,\n",
       "       15.,  5.,  0.,  0.,  3., 15.,  2.,  0., 11.,  8.,  0.,  0.,  4.,\n",
       "       12.,  0.,  0.,  8.,  8.,  0.,  0.,  5.,  8.,  0.,  0.,  9.,  8.,\n",
       "        0.,  0.,  4., 11.,  0.,  1., 12.,  7.,  0.,  0.,  2., 14.,  5.,\n",
       "       10., 12.,  0.,  0.,  0.,  0.,  6., 13., 10.,  0.,  0.,  0.])"
      ]
     },
     "execution_count": 13,
     "metadata": {},
     "output_type": "execute_result"
    }
   ],
   "source": [
    "data[0]"
   ]
  },
  {
   "cell_type": "code",
   "execution_count": 14,
   "id": "c9ec7891",
   "metadata": {},
   "outputs": [
    {
     "data": {
      "text/plain": [
       "(64,)"
      ]
     },
     "execution_count": 14,
     "metadata": {},
     "output_type": "execute_result"
    }
   ],
   "source": [
    "data[0].shape"
   ]
  },
  {
   "cell_type": "code",
   "execution_count": 15,
   "id": "51f90183",
   "metadata": {},
   "outputs": [
    {
     "data": {
      "text/plain": [
       "(1797, 64)"
      ]
     },
     "execution_count": 15,
     "metadata": {},
     "output_type": "execute_result"
    }
   ],
   "source": [
    "data.shape"
   ]
  },
  {
   "cell_type": "code",
   "execution_count": 16,
   "id": "290e8dc9",
   "metadata": {},
   "outputs": [
    {
     "data": {
      "text/plain": [
       "0.0"
      ]
     },
     "execution_count": 16,
     "metadata": {},
     "output_type": "execute_result"
    }
   ],
   "source": [
    "data.min()"
   ]
  },
  {
   "cell_type": "code",
   "execution_count": 17,
   "id": "bbba156a",
   "metadata": {},
   "outputs": [
    {
     "data": {
      "text/plain": [
       "16.0"
      ]
     },
     "execution_count": 17,
     "metadata": {},
     "output_type": "execute_result"
    }
   ],
   "source": [
    "data.max()"
   ]
  },
  {
   "cell_type": "code",
   "execution_count": 18,
   "id": "427c1116",
   "metadata": {},
   "outputs": [],
   "source": [
    "data=data/16"
   ]
  },
  {
   "cell_type": "code",
   "execution_count": 20,
   "id": "0f331969",
   "metadata": {},
   "outputs": [
    {
     "data": {
      "text/plain": [
       "0.0"
      ]
     },
     "execution_count": 20,
     "metadata": {},
     "output_type": "execute_result"
    }
   ],
   "source": [
    "data.min()"
   ]
  },
  {
   "cell_type": "code",
   "execution_count": 21,
   "id": "e88fdb06",
   "metadata": {},
   "outputs": [
    {
     "data": {
      "text/plain": [
       "1.0"
      ]
     },
     "execution_count": 21,
     "metadata": {},
     "output_type": "execute_result"
    }
   ],
   "source": [
    "data.max()"
   ]
  },
  {
   "cell_type": "code",
   "execution_count": 22,
   "id": "77170224",
   "metadata": {},
   "outputs": [
    {
     "data": {
      "text/plain": [
       "array([0.    , 0.    , 0.3125, 0.8125, 0.5625, 0.0625, 0.    , 0.    ,\n",
       "       0.    , 0.    , 0.8125, 0.9375, 0.625 , 0.9375, 0.3125, 0.    ,\n",
       "       0.    , 0.1875, 0.9375, 0.125 , 0.    , 0.6875, 0.5   , 0.    ,\n",
       "       0.    , 0.25  , 0.75  , 0.    , 0.    , 0.5   , 0.5   , 0.    ,\n",
       "       0.    , 0.3125, 0.5   , 0.    , 0.    , 0.5625, 0.5   , 0.    ,\n",
       "       0.    , 0.25  , 0.6875, 0.    , 0.0625, 0.75  , 0.4375, 0.    ,\n",
       "       0.    , 0.125 , 0.875 , 0.3125, 0.625 , 0.75  , 0.    , 0.    ,\n",
       "       0.    , 0.    , 0.375 , 0.8125, 0.625 , 0.    , 0.    , 0.    ])"
      ]
     },
     "execution_count": 22,
     "metadata": {},
     "output_type": "execute_result"
    }
   ],
   "source": [
    "data[0]"
   ]
  },
  {
   "cell_type": "code",
   "execution_count": 23,
   "id": "4665a7cf",
   "metadata": {},
   "outputs": [],
   "source": [
    "from sklearn.model_selection import train_test_split"
   ]
  },
  {
   "cell_type": "code",
   "execution_count": 28,
   "id": "71d180b3",
   "metadata": {},
   "outputs": [],
   "source": [
    "x_train,x_test,y_train,y_test=train_test_split(data, df.target, test_size=0.3)"
   ]
  },
  {
   "cell_type": "code",
   "execution_count": 29,
   "id": "44137efc",
   "metadata": {},
   "outputs": [
    {
     "data": {
      "text/plain": [
       "((1257, 64), (540, 64), (1257,), (540,))"
      ]
     },
     "execution_count": 29,
     "metadata": {},
     "output_type": "execute_result"
    }
   ],
   "source": [
    "x_train.shape,x_test.shape,y_train.shape,y_test.shape"
   ]
  },
  {
   "cell_type": "code",
   "execution_count": 30,
   "id": "687e41eb",
   "metadata": {},
   "outputs": [],
   "source": [
    "from sklearn.ensemble import RandomForestClassifier"
   ]
  },
  {
   "cell_type": "code",
   "execution_count": 31,
   "id": "d7206393",
   "metadata": {},
   "outputs": [],
   "source": [
    "rf=RandomForestClassifier()"
   ]
  },
  {
   "cell_type": "code",
   "execution_count": 32,
   "id": "d4ebc60d",
   "metadata": {},
   "outputs": [
    {
     "data": {
      "text/html": [
       "<style>#sk-container-id-1 {color: black;background-color: white;}#sk-container-id-1 pre{padding: 0;}#sk-container-id-1 div.sk-toggleable {background-color: white;}#sk-container-id-1 label.sk-toggleable__label {cursor: pointer;display: block;width: 100%;margin-bottom: 0;padding: 0.3em;box-sizing: border-box;text-align: center;}#sk-container-id-1 label.sk-toggleable__label-arrow:before {content: \"▸\";float: left;margin-right: 0.25em;color: #696969;}#sk-container-id-1 label.sk-toggleable__label-arrow:hover:before {color: black;}#sk-container-id-1 div.sk-estimator:hover label.sk-toggleable__label-arrow:before {color: black;}#sk-container-id-1 div.sk-toggleable__content {max-height: 0;max-width: 0;overflow: hidden;text-align: left;background-color: #f0f8ff;}#sk-container-id-1 div.sk-toggleable__content pre {margin: 0.2em;color: black;border-radius: 0.25em;background-color: #f0f8ff;}#sk-container-id-1 input.sk-toggleable__control:checked~div.sk-toggleable__content {max-height: 200px;max-width: 100%;overflow: auto;}#sk-container-id-1 input.sk-toggleable__control:checked~label.sk-toggleable__label-arrow:before {content: \"▾\";}#sk-container-id-1 div.sk-estimator input.sk-toggleable__control:checked~label.sk-toggleable__label {background-color: #d4ebff;}#sk-container-id-1 div.sk-label input.sk-toggleable__control:checked~label.sk-toggleable__label {background-color: #d4ebff;}#sk-container-id-1 input.sk-hidden--visually {border: 0;clip: rect(1px 1px 1px 1px);clip: rect(1px, 1px, 1px, 1px);height: 1px;margin: -1px;overflow: hidden;padding: 0;position: absolute;width: 1px;}#sk-container-id-1 div.sk-estimator {font-family: monospace;background-color: #f0f8ff;border: 1px dotted black;border-radius: 0.25em;box-sizing: border-box;margin-bottom: 0.5em;}#sk-container-id-1 div.sk-estimator:hover {background-color: #d4ebff;}#sk-container-id-1 div.sk-parallel-item::after {content: \"\";width: 100%;border-bottom: 1px solid gray;flex-grow: 1;}#sk-container-id-1 div.sk-label:hover label.sk-toggleable__label {background-color: #d4ebff;}#sk-container-id-1 div.sk-serial::before {content: \"\";position: absolute;border-left: 1px solid gray;box-sizing: border-box;top: 0;bottom: 0;left: 50%;z-index: 0;}#sk-container-id-1 div.sk-serial {display: flex;flex-direction: column;align-items: center;background-color: white;padding-right: 0.2em;padding-left: 0.2em;position: relative;}#sk-container-id-1 div.sk-item {position: relative;z-index: 1;}#sk-container-id-1 div.sk-parallel {display: flex;align-items: stretch;justify-content: center;background-color: white;position: relative;}#sk-container-id-1 div.sk-item::before, #sk-container-id-1 div.sk-parallel-item::before {content: \"\";position: absolute;border-left: 1px solid gray;box-sizing: border-box;top: 0;bottom: 0;left: 50%;z-index: -1;}#sk-container-id-1 div.sk-parallel-item {display: flex;flex-direction: column;z-index: 1;position: relative;background-color: white;}#sk-container-id-1 div.sk-parallel-item:first-child::after {align-self: flex-end;width: 50%;}#sk-container-id-1 div.sk-parallel-item:last-child::after {align-self: flex-start;width: 50%;}#sk-container-id-1 div.sk-parallel-item:only-child::after {width: 0;}#sk-container-id-1 div.sk-dashed-wrapped {border: 1px dashed gray;margin: 0 0.4em 0.5em 0.4em;box-sizing: border-box;padding-bottom: 0.4em;background-color: white;}#sk-container-id-1 div.sk-label label {font-family: monospace;font-weight: bold;display: inline-block;line-height: 1.2em;}#sk-container-id-1 div.sk-label-container {text-align: center;}#sk-container-id-1 div.sk-container {/* jupyter's `normalize.less` sets `[hidden] { display: none; }` but bootstrap.min.css set `[hidden] { display: none !important; }` so we also need the `!important` here to be able to override the default hidden behavior on the sphinx rendered scikit-learn.org. See: https://github.com/scikit-learn/scikit-learn/issues/21755 */display: inline-block !important;position: relative;}#sk-container-id-1 div.sk-text-repr-fallback {display: none;}</style><div id=\"sk-container-id-1\" class=\"sk-top-container\"><div class=\"sk-text-repr-fallback\"><pre>RandomForestClassifier()</pre><b>In a Jupyter environment, please rerun this cell to show the HTML representation or trust the notebook. <br />On GitHub, the HTML representation is unable to render, please try loading this page with nbviewer.org.</b></div><div class=\"sk-container\" hidden><div class=\"sk-item\"><div class=\"sk-estimator sk-toggleable\"><input class=\"sk-toggleable__control sk-hidden--visually\" id=\"sk-estimator-id-1\" type=\"checkbox\" checked><label for=\"sk-estimator-id-1\" class=\"sk-toggleable__label sk-toggleable__label-arrow\">RandomForestClassifier</label><div class=\"sk-toggleable__content\"><pre>RandomForestClassifier()</pre></div></div></div></div></div>"
      ],
      "text/plain": [
       "RandomForestClassifier()"
      ]
     },
     "execution_count": 32,
     "metadata": {},
     "output_type": "execute_result"
    }
   ],
   "source": [
    "rf.fit(x_train,y_train)"
   ]
  },
  {
   "cell_type": "code",
   "execution_count": 33,
   "id": "9a32e5bb",
   "metadata": {},
   "outputs": [],
   "source": [
    "y_pred=rf.predict(x_test)"
   ]
  },
  {
   "cell_type": "code",
   "execution_count": 34,
   "id": "19ee1e0d",
   "metadata": {},
   "outputs": [
    {
     "data": {
      "text/plain": [
       "array([5, 8, 8, 3, 7, 7, 7, 6, 6, 5, 9, 6, 7, 7, 6, 9, 3, 5, 7, 9, 8, 3,\n",
       "       2, 7, 4, 1, 7, 2, 7, 6, 5, 4, 2, 5, 5, 2, 7, 5, 7, 0, 0, 4, 7, 1,\n",
       "       8, 3, 0, 4, 7, 5, 5, 2, 8, 5, 8, 2, 3, 2, 9, 6, 5, 2, 0, 8, 1, 1,\n",
       "       8, 9, 2, 1, 9, 2, 9, 0, 4, 3, 1, 5, 9, 7, 0, 8, 1, 0, 6, 4, 8, 1,\n",
       "       1, 3, 3, 5, 1, 1, 4, 7, 4, 2, 3, 8, 9, 5, 8, 6, 0, 7, 7, 6, 3, 3,\n",
       "       6, 7, 5, 8, 3, 1, 6, 9, 1, 6, 6, 2, 2, 4, 3, 2, 3, 0, 1, 6, 7, 9,\n",
       "       9, 5, 7, 7, 3, 0, 4, 3, 5, 0, 3, 8, 9, 7, 1, 5, 4, 9, 6, 2, 7, 5,\n",
       "       4, 4, 0, 8, 2, 1, 3, 2, 6, 3, 4, 4, 6, 1, 8, 1, 7, 1, 7, 7, 6, 5,\n",
       "       9, 6, 2, 4, 8, 0, 7, 9, 7, 4, 7, 7, 3, 3, 2, 6, 3, 1, 4, 9, 9, 8,\n",
       "       8, 1, 0, 1, 1, 6, 3, 7, 9, 4, 7, 7, 2, 8, 4, 7, 2, 4, 1, 1, 4, 5,\n",
       "       7, 0, 2, 5, 0, 9, 2, 3, 9, 9, 4, 4, 1, 1, 8, 6, 8, 3, 1, 8, 6, 8,\n",
       "       7, 5, 9, 8, 5, 3, 5, 4, 7, 4, 5, 3, 5, 5, 4, 4, 4, 1, 2, 9, 5, 4,\n",
       "       9, 6, 5, 5, 2, 7, 2, 7, 3, 7, 3, 5, 7, 0, 6, 2, 0, 1, 3, 5, 1, 2,\n",
       "       2, 6, 9, 8, 5, 3, 9, 9, 0, 2, 0, 1, 5, 2, 7, 1, 8, 0, 4, 5, 3, 0,\n",
       "       2, 7, 6, 9, 5, 3, 5, 4, 1, 1, 8, 0, 5, 4, 5, 4, 0, 7, 1, 4, 9, 9,\n",
       "       1, 8, 9, 7, 9, 6, 8, 6, 1, 5, 5, 7, 8, 4, 6, 2, 8, 1, 5, 6, 1, 2,\n",
       "       7, 7, 8, 5, 3, 1, 6, 4, 1, 8, 7, 5, 2, 7, 4, 3, 4, 9, 6, 7, 9, 4,\n",
       "       0, 3, 4, 5, 2, 8, 2, 7, 8, 6, 4, 3, 3, 7, 3, 2, 1, 8, 7, 1, 4, 8,\n",
       "       1, 4, 0, 0, 2, 6, 9, 9, 6, 9, 4, 8, 7, 2, 8, 7, 2, 3, 7, 7, 1, 6,\n",
       "       2, 5, 0, 9, 6, 6, 6, 6, 4, 7, 7, 9, 4, 2, 3, 1, 1, 3, 0, 4, 2, 4,\n",
       "       9, 4, 2, 0, 2, 1, 6, 6, 3, 3, 4, 3, 6, 2, 7, 0, 2, 0, 5, 3, 6, 3,\n",
       "       0, 6, 3, 7, 8, 1, 8, 2, 1, 2, 5, 3, 6, 0, 7, 5, 2, 0, 7, 6, 2, 7,\n",
       "       5, 0, 1, 6, 1, 4, 0, 7, 4, 0, 7, 8, 0, 3, 4, 9, 1, 1, 9, 9, 7, 6,\n",
       "       8, 4, 5, 3, 5, 9, 4, 8, 0, 3, 0, 6, 6, 8, 9, 7, 3, 5, 3, 0, 8, 1,\n",
       "       7, 9, 5, 3, 9, 0, 3, 5, 5, 5, 4, 7])"
      ]
     },
     "execution_count": 34,
     "metadata": {},
     "output_type": "execute_result"
    }
   ],
   "source": [
    "y_pred"
   ]
  },
  {
   "cell_type": "code",
   "execution_count": 35,
   "id": "ff978a24",
   "metadata": {},
   "outputs": [],
   "source": [
    "from sklearn.metrics import confusion_matrix,classification_report"
   ]
  },
  {
   "cell_type": "code",
   "execution_count": 36,
   "id": "78d75c34",
   "metadata": {},
   "outputs": [
    {
     "data": {
      "text/plain": [
       "array([[43,  0,  0,  0,  0,  0,  0,  0,  0,  0],\n",
       "       [ 0, 51,  0,  0,  0,  0,  0,  0,  0,  0],\n",
       "       [ 0,  1, 52,  0,  0,  0,  0,  0,  0,  0],\n",
       "       [ 0,  1,  0, 56,  0,  2,  0,  0,  0,  0],\n",
       "       [ 0,  0,  0,  0, 55,  0,  0,  3,  0,  0],\n",
       "       [ 0,  0,  0,  0,  0, 55,  0,  0,  0,  1],\n",
       "       [ 0,  0,  0,  0,  2,  0, 52,  0,  0,  0],\n",
       "       [ 0,  0,  0,  0,  0,  0,  0, 65,  0,  1],\n",
       "       [ 0,  3,  0,  0,  0,  1,  0,  1, 46,  0],\n",
       "       [ 0,  0,  0,  0,  0,  0,  0,  2,  1, 46]], dtype=int64)"
      ]
     },
     "execution_count": 36,
     "metadata": {},
     "output_type": "execute_result"
    }
   ],
   "source": [
    "confusion_matrix(y_test,y_pred)"
   ]
  },
  {
   "cell_type": "code",
   "execution_count": 37,
   "id": "1a023691",
   "metadata": {},
   "outputs": [
    {
     "data": {
      "text/plain": [
       "array([5, 8, 8, 3, 7, 7, 7, 6, 6, 5, 9, 6, 7, 7, 6, 9, 3, 5, 7, 9, 8, 3,\n",
       "       2, 7, 4, 1, 7, 2, 7, 6, 5, 4, 2, 5, 5, 2, 7, 5, 7, 0, 0, 4, 7, 1,\n",
       "       8, 3, 0, 4, 7, 5, 5, 2, 8, 5, 8, 2, 3, 2, 9, 6, 5, 2, 0, 8, 1, 1,\n",
       "       8, 9, 2, 1, 9, 2, 9, 0, 4, 3, 1, 5, 9, 7, 0, 8, 1, 0, 6, 4, 8, 1,\n",
       "       1, 3, 3, 5, 1, 1, 4, 7, 4, 2, 3, 8, 9, 5, 8, 6, 0, 7, 7, 6, 3, 3,\n",
       "       6, 7, 5, 8, 3, 1, 6, 9, 1, 6, 6, 2, 2, 4, 3, 2, 3, 0, 1, 6, 7, 9,\n",
       "       9, 5, 7, 7, 3, 0, 4, 3, 5, 0, 3, 8, 9, 7, 1, 5, 4, 9, 6, 2, 7, 5,\n",
       "       4, 4, 0, 8, 2, 1, 3, 2, 6, 3, 4, 4, 6, 1, 8, 1, 7, 1, 7, 7, 6, 5,\n",
       "       9, 6, 2, 4, 8, 0, 7, 9, 7, 4, 7, 7, 3, 3, 2, 6, 3, 1, 4, 9, 9, 8,\n",
       "       8, 1, 0, 1, 1, 6, 3, 7, 9, 4, 7, 7, 2, 8, 4, 7, 2, 4, 1, 1, 4, 5,\n",
       "       7, 0, 2, 5, 0, 9, 2, 3, 9, 9, 4, 4, 1, 1, 8, 6, 8, 3, 1, 8, 6, 8,\n",
       "       7, 5, 9, 8, 5, 3, 5, 4, 7, 4, 5, 3, 5, 5, 4, 4, 4, 1, 2, 9, 5, 4,\n",
       "       9, 6, 5, 5, 2, 7, 2, 7, 3, 7, 3, 5, 7, 0, 6, 2, 0, 1, 3, 5, 1, 2,\n",
       "       2, 6, 9, 8, 5, 3, 9, 9, 0, 2, 0, 1, 5, 2, 7, 1, 8, 0, 4, 5, 3, 0,\n",
       "       2, 7, 6, 9, 5, 3, 5, 4, 1, 1, 8, 0, 5, 4, 5, 4, 0, 7, 1, 4, 9, 9,\n",
       "       1, 8, 9, 7, 9, 6, 8, 6, 1, 5, 5, 7, 8, 4, 6, 2, 8, 1, 5, 6, 1, 2,\n",
       "       7, 7, 8, 5, 3, 1, 6, 4, 1, 8, 7, 5, 2, 7, 4, 3, 4, 9, 6, 7, 9, 4,\n",
       "       0, 3, 4, 5, 2, 8, 2, 7, 8, 6, 4, 3, 3, 7, 3, 2, 1, 8, 7, 1, 4, 8,\n",
       "       1, 4, 0, 0, 2, 6, 9, 9, 6, 9, 4, 8, 7, 2, 8, 7, 2, 3, 7, 7, 1, 6,\n",
       "       2, 5, 0, 9, 6, 6, 6, 6, 4, 7, 7, 9, 4, 2, 3, 1, 1, 3, 0, 4, 2, 4,\n",
       "       9, 4, 2, 0, 2, 1, 6, 6, 3, 3, 4, 3, 6, 2, 7, 0, 2, 0, 5, 3, 6, 3,\n",
       "       0, 6, 3, 7, 8, 1, 8, 2, 1, 2, 5, 3, 6, 0, 7, 5, 2, 0, 7, 6, 2, 7,\n",
       "       5, 0, 1, 6, 1, 4, 0, 7, 4, 0, 7, 8, 0, 3, 4, 9, 1, 1, 9, 9, 7, 6,\n",
       "       8, 4, 5, 3, 5, 9, 4, 8, 0, 3, 0, 6, 6, 8, 9, 7, 3, 5, 3, 0, 8, 1,\n",
       "       7, 9, 5, 3, 9, 0, 3, 5, 5, 5, 4, 7])"
      ]
     },
     "execution_count": 37,
     "metadata": {},
     "output_type": "execute_result"
    }
   ],
   "source": [
    "y_pred"
   ]
  },
  {
   "cell_type": "code",
   "execution_count": 39,
   "id": "0f3b3524",
   "metadata": {},
   "outputs": [],
   "source": [
    "from sklearn.metrics import confusion_matrix,classification_report"
   ]
  },
  {
   "cell_type": "code",
   "execution_count": 40,
   "id": "b97644c9",
   "metadata": {},
   "outputs": [
    {
     "data": {
      "text/plain": [
       "array([[43,  0,  0,  0,  0,  0,  0,  0,  0,  0],\n",
       "       [ 0, 51,  0,  0,  0,  0,  0,  0,  0,  0],\n",
       "       [ 0,  1, 52,  0,  0,  0,  0,  0,  0,  0],\n",
       "       [ 0,  1,  0, 56,  0,  2,  0,  0,  0,  0],\n",
       "       [ 0,  0,  0,  0, 55,  0,  0,  3,  0,  0],\n",
       "       [ 0,  0,  0,  0,  0, 55,  0,  0,  0,  1],\n",
       "       [ 0,  0,  0,  0,  2,  0, 52,  0,  0,  0],\n",
       "       [ 0,  0,  0,  0,  0,  0,  0, 65,  0,  1],\n",
       "       [ 0,  3,  0,  0,  0,  1,  0,  1, 46,  0],\n",
       "       [ 0,  0,  0,  0,  0,  0,  0,  2,  1, 46]], dtype=int64)"
      ]
     },
     "execution_count": 40,
     "metadata": {},
     "output_type": "execute_result"
    }
   ],
   "source": [
    "confusion_matrix(y_test,y_pred)"
   ]
  },
  {
   "cell_type": "code",
   "execution_count": 41,
   "id": "5f75c09a",
   "metadata": {},
   "outputs": [
    {
     "name": "stdout",
     "output_type": "stream",
     "text": [
      "              precision    recall  f1-score   support\n",
      "\n",
      "           0       1.00      1.00      1.00        43\n",
      "           1       0.91      1.00      0.95        51\n",
      "           2       1.00      0.98      0.99        53\n",
      "           3       1.00      0.95      0.97        59\n",
      "           4       0.96      0.95      0.96        58\n",
      "           5       0.95      0.98      0.96        56\n",
      "           6       1.00      0.96      0.98        54\n",
      "           7       0.92      0.98      0.95        66\n",
      "           8       0.98      0.90      0.94        51\n",
      "           9       0.96      0.94      0.95        49\n",
      "\n",
      "    accuracy                           0.96       540\n",
      "   macro avg       0.97      0.96      0.97       540\n",
      "weighted avg       0.97      0.96      0.96       540\n",
      "\n"
     ]
    }
   ],
   "source": [
    "print(classification_report(y_test,y_pred))"
   ]
  },
  {
   "cell_type": "code",
   "execution_count": null,
   "id": "be5f97eb",
   "metadata": {},
   "outputs": [],
   "source": []
  }
 ],
 "metadata": {
  "kernelspec": {
   "display_name": "Python 3 (ipykernel)",
   "language": "python",
   "name": "python3"
  },
  "language_info": {
   "codemirror_mode": {
    "name": "ipython",
    "version": 3
   },
   "file_extension": ".py",
   "mimetype": "text/x-python",
   "name": "python",
   "nbconvert_exporter": "python",
   "pygments_lexer": "ipython3",
   "version": "3.10.9"
  }
 },
 "nbformat": 4,
 "nbformat_minor": 5
}
